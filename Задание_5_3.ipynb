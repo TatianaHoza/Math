{
  "nbformat": 4,
  "nbformat_minor": 0,
  "metadata": {
    "colab": {
      "name": "Задание_5.3.ipynb",
      "provenance": [],
      "authorship_tag": "ABX9TyN6fn6M48/HH+6YeE5ZnKM0",
      "include_colab_link": true
    },
    "kernelspec": {
      "name": "python3",
      "display_name": "Python 3"
    },
    "language_info": {
      "name": "python"
    }
  },
  "cells": [
    {
      "cell_type": "markdown",
      "metadata": {
        "id": "view-in-github",
        "colab_type": "text"
      },
      "source": [
        "<a href=\"https://colab.research.google.com/github/TatianaHoza/Math/blob/%D0%94%D0%97_%D0%A3%D1%80%D0%BE%D0%BA_5/%D0%97%D0%B0%D0%B4%D0%B0%D0%BD%D0%B8%D0%B5_5_3.ipynb\" target=\"_parent\"><img src=\"https://colab.research.google.com/assets/colab-badge.svg\" alt=\"Open In Colab\"/></a>"
      ]
    },
    {
      "cell_type": "code",
      "metadata": {
        "colab": {
          "base_uri": "https://localhost:8080/"
        },
        "id": "5nzhd9IIElNJ",
        "outputId": "e4f19809-e661-4f5d-90b4-b2a7f95b893e"
      },
      "source": [
        "import numpy as np\n",
        "import itertools\n",
        "import sys\n",
        "import math\n",
        "k, n = 0, 2\n",
        "a = np.random.randint(0, 2, n)\n",
        "b = np.random.randint(0, 2, n)\n",
        "c = np.random.randint(0, 2, n)\n",
        "d = np.random.randint(0, 2, n)\n",
        "x = a + b + c + d\n",
        "for i in range(0, n):\n",
        "    if x[i] == 2:\n",
        "        k = k + 1\n",
        "c=math.factorial(n)/(math.factorial(k)*math.factorial(n-k))\n",
        "print(a, b, c, d)\n",
        "print(x)\n",
        "print(k, n, k/n,c)"
      ],
      "execution_count": null,
      "outputs": [
        {
          "output_type": "stream",
          "name": "stdout",
          "text": [
            "[0 0] [1 0] 1.0 [0 0]\n",
            "[1 0]\n",
            "0 2 0.0 1.0\n"
          ]
        }
      ]
    },
    {
      "cell_type": "code",
      "metadata": {
        "colab": {
          "base_uri": "https://localhost:8080/"
        },
        "id": "zfMOsdvsIAP0",
        "outputId": "cfbc6b74-2c66-4062-ca27-1ea9bfdc0652"
      },
      "source": [
        "import numpy as np\n",
        "import itertools\n",
        "import sys\n",
        "import math\n",
        "k, n = 2,500 \n",
        "a = np.random.randint(0, 2, n)\n",
        "b = np.random.randint(0, 2, n)\n",
        "c = np.random.randint(0, 2, n)\n",
        "d = np.random.randint(0, 2, n)\n",
        "x = a + b + c + d\n",
        "for i in range(0, n):\n",
        "    if x[i] == 2:\n",
        "        k = k + 1\n",
        "c=math.factorial(n)/(math.factorial(k)*math.factorial(n-k))\n",
        "#print(a, b, c, d)\n",
        "print(x)\n",
        "print(k, n, k/n,c)"
      ],
      "execution_count": null,
      "outputs": [
        {
          "output_type": "stream",
          "name": "stdout",
          "text": [
            "[2 3 2 3 3 1 2 4 3 3 1 3 3 2 2 3 2 1 1 1 2 1 1 2 2 3 1 1 1 3 2 4 2 2 3 1 0\n",
            " 1 0 3 0 2 1 2 3 0 4 1 1 0 2 0 3 3 2 3 3 3 2 1 2 1 2 2 3 1 1 2 1 2 3 3 2 2\n",
            " 1 2 1 4 3 2 2 3 3 3 1 0 1 1 2 2 1 2 1 2 1 1 0 2 0 2 1 3 4 1 2 4 2 3 2 1 0\n",
            " 2 1 1 1 3 2 2 1 3 4 1 2 3 1 3 0 2 3 3 2 2 4 2 2 1 2 3 2 3 3 3 0 2 1 0 2 2\n",
            " 3 2 3 1 1 1 0 3 2 2 0 3 2 3 3 1 1 3 2 2 1 1 3 1 2 2 3 1 3 3 3 2 0 2 1 2 0\n",
            " 2 1 4 1 1 2 2 2 0 2 2 1 2 3 2 2 2 2 4 2 2 1 1 1 3 4 1 1 2 1 2 1 3 3 4 2 3\n",
            " 3 3 0 2 3 2 3 0 2 0 1 3 2 2 4 1 2 2 1 2 1 2 0 2 3 3 1 3 1 4 1 3 4 4 0 2 2\n",
            " 3 1 2 2 1 4 3 4 2 3 3 2 3 2 2 4 2 3 4 3 1 3 1 1 1 2 3 2 3 2 3 3 4 2 1 2 2\n",
            " 2 1 2 1 3 3 1 2 0 1 1 3 2 1 3 1 2 1 1 2 2 4 2 2 1 0 1 1 2 2 1 2 1 1 1 2 2\n",
            " 4 2 3 1 1 2 2 1 0 3 2 0 0 2 4 2 3 2 2 2 3 2 1 3 2 3 1 0 1 2 2 3 4 4 3 2 2\n",
            " 2 3 1 1 2 1 3 1 3 4 1 1 1 4 1 3 2 3 4 3 1 3 3 2 2 2 4 2 0 2 2 1 1 3 1 1 3\n",
            " 4 3 3 2 2 2 1 2 3 1 2 4 1 1 3 4 2 1 4 4 2 4 4 0 2 2 2 1 3 1 4 2 3 0 1 1 4\n",
            " 4 1 4 2 2 1 1 2 2 1 3 1 2 1 2 2 2 1 2 4 1 2 2 3 3 0 3 2 3 3 4 1 2 2 1 4 2\n",
            " 4 2 2 2 1 3 0 1 0 1 2 1 2 2 3 2 4 3 0]\n",
            "175 500 0.35 1.458612433110877e+139\n"
          ]
        }
      ]
    }
  ]
}