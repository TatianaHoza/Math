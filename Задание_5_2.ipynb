{
  "nbformat": 4,
  "nbformat_minor": 0,
  "metadata": {
    "colab": {
      "name": "Задание_5.2.ipynb",
      "provenance": [],
      "authorship_tag": "ABX9TyNJk7vHk1Lo+oeK3EyS8qV2",
      "include_colab_link": true
    },
    "kernelspec": {
      "name": "python3",
      "display_name": "Python 3"
    },
    "language_info": {
      "name": "python"
    }
  },
  "cells": [
    {
      "cell_type": "markdown",
      "metadata": {
        "id": "view-in-github",
        "colab_type": "text"
      },
      "source": [
        "<a href=\"https://colab.research.google.com/github/TatianaHoza/Math/blob/%D0%94%D0%97_%D0%A3%D1%80%D0%BE%D0%BA_5/%D0%97%D0%B0%D0%B4%D0%B0%D0%BD%D0%B8%D0%B5_5_2.ipynb\" target=\"_parent\"><img src=\"https://colab.research.google.com/assets/colab-badge.svg\" alt=\"Open In Colab\"/></a>"
      ]
    },
    {
      "cell_type": "code",
      "metadata": {
        "colab": {
          "base_uri": "https://localhost:8080/"
        },
        "id": "i3fcUvQmtLy9",
        "outputId": "246ec856-1c9d-482e-c95d-536bb2f9bf13"
      },
      "source": [
        "%matplotlib inline\n",
        "import numpy as np\n",
        "for i in range(0, 2):\n",
        "    a = input()\n",
        "    num = np.random.uniform(0, 10)\n",
        "    if num<5:\n",
        "      print(\"выпала решка\")\n",
        "    else:\n",
        "      print('выпал орел')\n",
        "#Найти вероятность выпадения сразу орла, а затем решки 2 бросков:\n",
        "p = 1/2*1/2\n",
        "print(p)"
      ],
      "execution_count": 10,
      "outputs": [
        {
          "output_type": "stream",
          "name": "stdout",
          "text": [
            "\n",
            "выпала решка\n",
            "\n",
            "выпала решка\n",
            "0.25\n"
          ]
        }
      ]
    },
    {
      "cell_type": "code",
      "metadata": {
        "colab": {
          "base_uri": "https://localhost:8080/",
          "height": 352
        },
        "id": "7hRO8GAZA6dT",
        "outputId": "b1315acd-1fac-4b49-b517-d07e4c6c6c31"
      },
      "source": [
        "%matplotlib inline\n",
        "import numpy as np\n",
        "import matplotlib.pyplot as plt\n",
        "import matplotlib.mlab as mlab\n",
        "allsums=[]\n",
        "for i in range(10):\n",
        "  x=np.random.rand(10)\n",
        "  allsums.append(sum(x))\n",
        "  i+=1\n",
        "print(allsums)\n",
        "n, bins, patches = plt.hist(allsums, num_bins)\n",
        "plt.xlabel('summa')\n",
        "plt.ylabel('Probability')\n",
        "plt.title('Histogram')"
      ],
      "execution_count": 33,
      "outputs": [
        {
          "output_type": "stream",
          "name": "stdout",
          "text": [
            "[5.0220442363658995, 4.053404720797449, 6.086283105187516, 3.856593428644089, 5.933760278478329, 4.251391119224326, 6.404632541181922, 7.393744419439356, 3.535854014622112, 5.095220752183859]\n"
          ]
        },
        {
          "output_type": "execute_result",
          "data": {
            "text/plain": [
              "Text(0.5, 1.0, 'Histogram')"
            ]
          },
          "metadata": {},
          "execution_count": 33
        },
        {
          "output_type": "display_data",
          "data": {
            "image/png": "[encoded data removed]",
            "text/plain": [
              "<Figure size 432x288 with 1 Axes>"
            ]
          },
          "metadata": {
            "needs_background": "light"
          }
        }
      ]
    }
  ]
}