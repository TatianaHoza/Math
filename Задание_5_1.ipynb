{
  "nbformat": 4,
  "nbformat_minor": 0,
  "metadata": {
    "colab": {
      "name": "Задание_5.1.ipynb",
      "provenance": [],
      "authorship_tag": "ABX9TyPl1oMZS8xOZ2ct6E0Vrn23",
      "include_colab_link": true
    },
    "kernelspec": {
      "name": "python3",
      "display_name": "Python 3"
    },
    "language_info": {
      "name": "python"
    }
  },
  "cells": [
    {
      "cell_type": "markdown",
      "metadata": {
        "id": "view-in-github",
        "colab_type": "text"
      },
      "source": [
        "<a href=\"https://colab.research.google.com/github/TatianaHoza/Math/blob/%D0%94%D0%97_%D0%A3%D1%80%D0%BE%D0%BA_5/%D0%97%D0%B0%D0%B4%D0%B0%D0%BD%D0%B8%D0%B5_5_1.ipynb\" target=\"_parent\"><img src=\"https://colab.research.google.com/assets/colab-badge.svg\" alt=\"Open In Colab\"/></a>"
      ]
    },
    {
      "cell_type": "code",
      "metadata": {
        "colab": {
          "base_uri": "https://localhost:8080/"
        },
        "id": "dMrX-7SsnYPb",
        "outputId": "3551540c-349c-47b9-c78b-c49dba02e6e3"
      },
      "source": [
        "%matplotlib inline\n",
        "import numpy as np\n",
        "num = np.random.uniform(0, 36)\n",
        "if num==0:\n",
        "  print(\"выпал 0\")\n",
        "elif int(num) % 2 == 0:\n",
        "  print(f\"{num} - черный\")\n",
        "else:\n",
        "  print(f\"{num} - красный\")"
      ],
      "execution_count": 20,
      "outputs": [
        {
          "output_type": "stream",
          "name": "stdout",
          "text": [
            "18.122015344008865 - черный\n"
          ]
        }
      ]
    }
  ]
}