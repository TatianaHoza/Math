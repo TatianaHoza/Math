{
  "nbformat": 4,
  "nbformat_minor": 0,
  "metadata": {
    "colab": {
      "name": "УРОК 3_1.ipynb",
      "provenance": [],
      "authorship_tag": "ABX9TyMYMOVuYQSCZIG2xGo0pnhS",
      "include_colab_link": true
    },
    "kernelspec": {
      "name": "python3",
      "display_name": "Python 3"
    },
    "language_info": {
      "name": "python"
    }
  },
  "cells": [
    {
      "cell_type": "markdown",
      "metadata": {
        "id": "view-in-github",
        "colab_type": "text"
      },
      "source": [
        "<a href=\"https://colab.research.google.com/github/TatianaHoza/Math/blob/%D0%94%D0%97_%D0%A3%D1%80%D0%BE%D0%BA_3/%D0%A3%D0%A0%D0%9E%D0%9A_3_1.ipynb\" target=\"_parent\"><img src=\"https://colab.research.google.com/assets/colab-badge.svg\" alt=\"Open In Colab\"/></a>"
      ]
    },
    {
      "cell_type": "code",
      "metadata": {
        "colab": {
          "base_uri": "https://localhost:8080/"
        },
        "id": "wRx_t_VwG86M",
        "outputId": "f08290e9-23b0-4e37-945b-55bf42cb2778"
      },
      "source": [
        "%matplotlib inline\n",
        "import numpy as np\n",
        "from matplotlib import pyplot as plt\n",
        "x=2\n",
        "y=1\n",
        "X=5\n",
        "Y=4\n",
        "vec = np.sqrt((X-x)**2+(Y-y)**2)\n",
        "print(f'длина вектора с точкой начала {x,y} и точкой конца {X,Y} - {vec}')"
      ],
      "execution_count": null,
      "outputs": [
        {
          "output_type": "stream",
          "name": "stdout",
          "text": [
            "длина вектора с точкой начала (2, 1) и точкой конца (5, 4) - 4.242640687119285\n"
          ]
        }
      ]
    }
  ]
}