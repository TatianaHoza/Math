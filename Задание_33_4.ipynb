{
  "nbformat": 4,
  "nbformat_minor": 0,
  "metadata": {
    "colab": {
      "name": "Задание_33_4.ipynb",
      "provenance": [],
      "authorship_tag": "ABX9TyNa8QGu/FQobn01sUwRztig",
      "include_colab_link": true
    },
    "kernelspec": {
      "name": "python3",
      "display_name": "Python 3"
    },
    "language_info": {
      "name": "python"
    }
  },
  "cells": [
    {
      "cell_type": "markdown",
      "metadata": {
        "id": "view-in-github",
        "colab_type": "text"
      },
      "source": [
        "<a href=\"https://colab.research.google.com/github/TatianaHoza/Math/blob/%D0%94%D0%97_%D0%A3%D1%80%D0%BE%D0%BA_3/%D0%97%D0%B0%D0%B4%D0%B0%D0%BD%D0%B8%D0%B5_33_4.ipynb\" target=\"_parent\"><img src=\"https://colab.research.google.com/assets/colab-badge.svg\" alt=\"Open In Colab\"/></a>"
      ]
    },
    {
      "cell_type": "code",
      "metadata": {
        "colab": {
          "base_uri": "https://localhost:8080/",
          "height": 336
        },
        "id": "UpIgjVCWnkJY",
        "outputId": "5a393fd7-0c98-4481-d67b-d7cbd8f903ff"
      },
      "source": [
        "%matplotlib inline\n",
        "import numpy as np\n",
        "from matplotlib import pyplot as plt\n",
        "x = np.linspace(-2, 3, 201)\n",
        "\n",
        "plt.figure(figsize = (2, 10))\n",
        "plt.plot(x, (np.exp(x)+ x - 1)/x)\n",
        "plt.plot(x, x**2 - 1)\n",
        "plt.xlabel('x')\n",
        "plt.ylabel('y')\n",
        "plt.ylim(-1,5) \n",
        "plt.grid(True)\n",
        "plt.axis('scaled')\n",
        "plt.show()\n",
        "\n",
        "from scipy.optimize import fsolve\n",
        "\n",
        "def equations(p):\n",
        "    x, y = p\n",
        "    return (x**2 - 1 - y, np.exp(x) + x * (1 - y) - 1)\n",
        "\n",
        "x1, y1 =  fsolve(equations, (2, 4))\n",
        "x2, y2 =  fsolve(equations, (-1, 1))\n",
        "              \n",
        "print (x1, y1)\n",
        "print (x2, y2)"
      ],
      "execution_count": null,
      "outputs": [
        {
          "output_type": "stream",
          "name": "stderr",
          "text": [
            "/usr/local/lib/python3.7/dist-packages/ipykernel_launcher.py:7: RuntimeWarning: invalid value encountered in true_divide\n",
            "  import sys\n"
          ]
        },
        {
          "output_type": "display_data",
          "data": {
            "image/png": "[encoded data removed]",
            "text/plain": [
              "<Figure size 144x720 with 1 Axes>"
            ]
          },
          "metadata": {
            "needs_background": "light"
          }
        },
        {
          "output_type": "stream",
          "name": "stdout",
          "text": [
            "2.618145573277872 5.854686243439231\n",
            "-1.5818353528983808 1.502203083669976\n"
          ]
        }
      ]
    },
    {
      "cell_type": "code",
      "metadata": {
        "colab": {
          "base_uri": "https://localhost:8080/",
          "height": 355
        },
        "id": "6fY91BBDVInN",
        "outputId": "933c0784-fb70-4ff0-9d45-32078d0043d3"
      },
      "source": [
        "%matplotlib inline\n",
        "import numpy as np\n",
        "from matplotlib import pyplot as plt\n",
        "x = np.linspace(-2, 3, 201)\n",
        "\n",
        "plt.figure(figsize = (2, 10))\n",
        "plt.plot(x, (np.exp(x)+ x - 1)/x)\n",
        "plt.plot(x, x**2 - 1)\n",
        "plt.xlabel('x')\n",
        "plt.ylabel('y')\n",
        "plt.ylim(-1,5) \n",
        "plt.grid(True)\n",
        "plt.axis('scaled')\n",
        "plt.show()\n",
        "\n",
        "from scipy.optimize import fsolve\n",
        "\n",
        "def equations(p):\n",
        "    x, y = p\n",
        "    return (x**2 - 1 - y, (- 1/x)+2 - y)\n",
        "\n",
        "x1, y1 =  fsolve(equations, (2, 4))\n",
        "x2, y2 =  fsolve(equations, (0.5, 0.5))\n",
        "x3, y3 =  fsolve(equations, (-1, 1))\n",
        "              \n",
        "print (x1, y1)\n",
        "print (x2, y2)\n",
        "print (x3, y3)"
      ],
      "execution_count": null,
      "outputs": [
        {
          "output_type": "stream",
          "name": "stderr",
          "text": [
            "/usr/local/lib/python3.7/dist-packages/ipykernel_launcher.py:7: RuntimeWarning: invalid value encountered in true_divide\n",
            "  import sys\n"
          ]
        },
        {
          "output_type": "display_data",
          "data": {
            "image/png": "[encoded data removed]",
            "text/plain": [
              "<Figure size 144x720 with 1 Axes>"
            ]
          },
          "metadata": {
            "needs_background": "light"
          }
        },
        {
          "output_type": "stream",
          "name": "stdout",
          "text": [
            "1.5320888862380118 1.3472963553339066\n",
            "0.3472963553346955 -0.8793852415708359\n",
            "-1.8793852415718184 2.5320888862379523\n"
          ]
        }
      ]
    }
  ]
}